{
  "metadata": {
    "kernelspec": {
      "name": "python",
      "display_name": "Python (Pyodide)",
      "language": "python"
    },
    "language_info": {
      "codemirror_mode": {
        "name": "python",
        "version": 3
      },
      "file_extension": ".py",
      "mimetype": "text/x-python",
      "name": "python",
      "nbconvert_exporter": "python",
      "pygments_lexer": "ipython3",
      "version": "3.8"
    }
  },
  "nbformat_minor": 5,
  "nbformat": 4,
  "cells": [
    {
      "id": "2cfef232-ba70-419d-ac0d-cfae781f11c1",
      "cell_type": "markdown",
      "source": "The task is to write a Python function that accepts a list of numbers and checks whether each\nnumber is even or odd. This involves using loops to iterate through the list, conditional\nstatements to check for even or odd, and a function to encapsulate the logic. Refer to the video\nat [00:00:17] - [00:00:32] for the problem statement.",
      "metadata": {}
    },
    {
      "id": "f0c4eb2e-1462-444f-9cbd-4702fcc61561",
      "cell_type": "code",
      "source": "def check_even_odd(Numbers):\n    try:\n        for num in range(0,len(list)):                  #Loop through each Number\n            if num%2 == 0:                   #Condition to check even\n                print(str(list[num]) + \" is even\") \n            else:\n                print(str(list[num]) + \" is odd\")\n    except Exception as e:\n        print(f\"This is an error {str(e)}\")\n#Variable List\nlist = [1,2,3,4,5]   \nresult = check_even_odd(list)\n#Call the function with variables\n",
      "metadata": {
        "trusted": true
      },
      "outputs": [
        {
          "name": "stdout",
          "output_type": "stream",
          "text": "1 is even\n2 is odd\n3 is even\n4 is odd\n5 is even\n"
        }
      ],
      "execution_count": 20
    },
    {
      "id": "b1face02-a8ba-4127-bfaa-c4adac9c0253",
      "cell_type": "code",
      "source": "",
      "metadata": {
        "trusted": true
      },
      "outputs": [],
      "execution_count": null
    },
    {
      "id": "0575b773-5e12-4121-8236-04639cf0520b",
      "cell_type": "code",
      "source": "",
      "metadata": {
        "trusted": true
      },
      "outputs": [],
      "execution_count": null
    },
    {
      "id": "a6a2c610-adf1-4050-8950-4777817dfdf3",
      "cell_type": "code",
      "source": "",
      "metadata": {
        "trusted": true
      },
      "outputs": [],
      "execution_count": null
    },
    {
      "id": "eb55d66e-9b54-4ce4-b56a-018f66d182db",
      "cell_type": "code",
      "source": "",
      "metadata": {
        "trusted": true
      },
      "outputs": [],
      "execution_count": null
    },
    {
      "id": "d9e7a89b-a9d1-4156-a0f4-888f09b29033",
      "cell_type": "code",
      "source": "",
      "metadata": {
        "trusted": true
      },
      "outputs": [],
      "execution_count": null
    },
    {
      "id": "de4ff12f-2847-406d-8260-7b65f4f10e45",
      "cell_type": "code",
      "source": "",
      "metadata": {
        "trusted": true
      },
      "outputs": [],
      "execution_count": null
    },
    {
      "id": "d3649784-d3c1-4663-9d7b-de353706fe60",
      "cell_type": "code",
      "source": "",
      "metadata": {
        "trusted": true
      },
      "outputs": [],
      "execution_count": null
    },
    {
      "id": "47f76b42-c144-4ead-bfbf-8e09fb4b3557",
      "cell_type": "code",
      "source": "",
      "metadata": {
        "trusted": true
      },
      "outputs": [],
      "execution_count": null
    },
    {
      "id": "31cd342c-91fa-4dde-9e55-25b61eff7f7c",
      "cell_type": "code",
      "source": "",
      "metadata": {
        "trusted": true
      },
      "outputs": [],
      "execution_count": null
    },
    {
      "id": "c45ffd62-c85f-43fd-aa62-b2a52a40c107",
      "cell_type": "code",
      "source": "",
      "metadata": {
        "trusted": true
      },
      "outputs": [],
      "execution_count": null
    }
  ]
}